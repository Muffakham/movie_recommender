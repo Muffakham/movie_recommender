{
  "nbformat": 4,
  "nbformat_minor": 0,
  "metadata": {
    "colab": {
      "name": "ALS_pyspark.ipynb",
      "provenance": []
    },
    "kernelspec": {
      "name": "python3",
      "display_name": "Python 3"
    }
  },
  "cells": [
    {
      "cell_type": "code",
      "metadata": {
        "id": "7JGjYCz6UedW"
      },
      "source": [
        "!apt-get install openjdk-8-jdk-headless -qq > /dev/null\r\n",
        "!wget -q https://archive.apache.org/dist/spark/spark-2.4.5/spark-2.4.5-bin-hadoop2.7.tgz\r\n",
        "!tar xf spark-2.4.5-bin-hadoop2.7.tgz && rm spark-2.4.5-bin-hadoop2.7.tgz\r\n",
        "!pip install -q findspark"
      ],
      "execution_count": null,
      "outputs": []
    },
    {
      "cell_type": "code",
      "metadata": {
        "id": "PDNZuTE7UsVG"
      },
      "source": [
        "import os\r\n",
        "os.environ[\"JAVA_HOME\"] = \"/usr/lib/jvm/java-8-openjdk-amd64\"\r\n",
        "os.environ[\"SPARK_HOME\"] = \"/content/spark-2.4.5-bin-hadoop2.7\""
      ],
      "execution_count": null,
      "outputs": []
    },
    {
      "cell_type": "code",
      "metadata": {
        "id": "wvODUAvmUxEi"
      },
      "source": [
        "import findspark\r\n",
        "findspark.init()\r\n",
        "from pyspark.sql import SparkSession\r\n",
        "spark = SparkSession.builder.master(\"local[*]\").getOrCreate()\r\n",
        "sc = spark.sparkContext"
      ],
      "execution_count": null,
      "outputs": []
    },
    {
      "cell_type": "code",
      "metadata": {
        "colab": {
          "base_uri": "https://localhost:8080/"
        },
        "id": "iFag4MPpU_qH",
        "outputId": "a755b3fe-7b50-443d-d26d-4f2512e2c9ca"
      },
      "source": [
        "v = [1, 2, 3]\r\n",
        "v_square = sc.parallelize([1, 2, 3]).map(lambda x : x**2).collect()\r\n",
        "\r\n",
        "print(\"Vector: {0}, Vector square: {1}\". format(v, v_square))"
      ],
      "execution_count": null,
      "outputs": [
        {
          "output_type": "stream",
          "text": [
            "Vector: [1, 2, 3], Vector square: [1, 4, 9]\n"
          ],
          "name": "stdout"
        }
      ]
    },
    {
      "cell_type": "code",
      "metadata": {
        "colab": {
          "base_uri": "https://localhost:8080/"
        },
        "id": "7WpDZqVNdIPa",
        "outputId": "a613f916-bf81-4c98-8432-cf89b0039b76"
      },
      "source": [
        "from google.colab import drive\r\n",
        "drive.mount('/content/drive')\r\n",
        "dataSetFolder = '/content/drive/My Drive/movies_data'"
      ],
      "execution_count": null,
      "outputs": [
        {
          "output_type": "stream",
          "text": [
            "Mounted at /content/drive\n"
          ],
          "name": "stdout"
        }
      ]
    },
    {
      "cell_type": "code",
      "metadata": {
        "id": "vt0NiNO8dTUe"
      },
      "source": [
        ""
      ],
      "execution_count": null,
      "outputs": []
    },
    {
      "cell_type": "code",
      "metadata": {
        "id": "usRv_MMpWlwq"
      },
      "source": [
        "import pandas as pd\r\n",
        "from pyspark.sql import SparkSession\r\n",
        "spark = SparkSession.builder.appName('recnn').getOrCreate()"
      ],
      "execution_count": null,
      "outputs": []
    },
    {
      "cell_type": "code",
      "metadata": {
        "id": "qYn-mKfcWqOJ"
      },
      "source": [
        "data = spark.read.csv(dataSetFolder+'/filtered.csv',inferSchema=True,header=True)"
      ],
      "execution_count": null,
      "outputs": []
    },
    {
      "cell_type": "code",
      "metadata": {
        "colab": {
          "base_uri": "https://localhost:8080/"
        },
        "id": "ym5wcfczW7Lt",
        "outputId": "dedde2fe-a425-4530-f440-2e36a12f5e20"
      },
      "source": [
        "data.head()"
      ],
      "execution_count": null,
      "outputs": [
        {
          "output_type": "execute_result",
          "data": {
            "text/plain": [
              "Row(movieId=949, userId=23, rating=3.5)"
            ]
          },
          "metadata": {
            "tags": []
          },
          "execution_count": 52
        }
      ]
    },
    {
      "cell_type": "code",
      "metadata": {
        "colab": {
          "base_uri": "https://localhost:8080/"
        },
        "id": "0MrI1I2BXAQm",
        "outputId": "f9549fac-cf7a-4eb0-ddb8-42abea5b3f44"
      },
      "source": [
        "data.describe().show()"
      ],
      "execution_count": null,
      "outputs": [
        {
          "output_type": "stream",
          "text": [
            "+-------+------------------+------------------+------------------+\n",
            "|summary|           movieId|            userId|            rating|\n",
            "+-------+------------------+------------------+------------------+\n",
            "|  count|             32166|             32166|             32166|\n",
            "|   mean|2138.0610271715477| 345.8573649194802|3.5854784555120314|\n",
            "| stddev|6162.8237020664155|195.05404031751385|1.0469430526673154|\n",
            "|    min|                 2|                 1|               0.5|\n",
            "|    max|            134368|               671|               5.0|\n",
            "+-------+------------------+------------------+------------------+\n",
            "\n"
          ],
          "name": "stdout"
        }
      ]
    },
    {
      "cell_type": "code",
      "metadata": {
        "id": "GWAABBlKXHDD"
      },
      "source": [
        "(training, test) = data.randomSplit([0.8, 0.2])"
      ],
      "execution_count": null,
      "outputs": []
    },
    {
      "cell_type": "code",
      "metadata": {
        "id": "MGS59A7hXMM4"
      },
      "source": [
        "from pyspark.ml.evaluation import RegressionEvaluator\r\n",
        "from pyspark.ml.recommendation import ALS\r\n",
        "from pyspark.ml.tuning import ParamGridBuilder, TrainValidationSplit\r\n",
        "\r\n",
        "params = ParamGridBuilder().addGrid(als.rank,[12,13,14]).addGrid(als.maxIter,[18,19,20]).addGrid(als.regParam,[.17,.18,.19]).build()\r\n",
        "als = ALS(userCol=\"userId\", itemCol=\"movieId\", ratingCol=\"rating\",coldStartStrategy='drop',nonnegative=True)\r\n",
        "\r\n"
      ],
      "execution_count": null,
      "outputs": []
    },
    {
      "cell_type": "code",
      "metadata": {
        "id": "Y3-AsDUzuDEW"
      },
      "source": [
        "evaluator = RegressionEvaluator(metricName=\"rmse\", labelCol=\"rating\",predictionCol=\"prediction\")"
      ],
      "execution_count": null,
      "outputs": []
    },
    {
      "cell_type": "code",
      "metadata": {
        "id": "lHvLP4Rgtk-B"
      },
      "source": [
        "tv = TrainValidationSplit(estimator=als,estimatorParamMaps=params,evaluator=evaluator)"
      ],
      "execution_count": null,
      "outputs": []
    },
    {
      "cell_type": "code",
      "metadata": {
        "id": "LrLTeIKBtjyp"
      },
      "source": [
        "model = tv.fit(training)"
      ],
      "execution_count": null,
      "outputs": []
    },
    {
      "cell_type": "code",
      "metadata": {
        "id": "j4bWpRjquUTw"
      },
      "source": [
        "bestModel = model.bestModel"
      ],
      "execution_count": null,
      "outputs": []
    },
    {
      "cell_type": "code",
      "metadata": {
        "colab": {
          "base_uri": "https://localhost:8080/"
        },
        "id": "KZPFuk_nXXPj",
        "outputId": "3564b35e-ace6-4115-e7fe-4b8661c1faf9"
      },
      "source": [
        "predictions = bestModel.transform(test)\r\n",
        "predictions.show()"
      ],
      "execution_count": null,
      "outputs": [
        {
          "output_type": "stream",
          "text": [
            "+-------+------+------+----------+\n",
            "|movieId|userId|rating|prediction|\n",
            "+-------+------+------+----------+\n",
            "|    496|   509|   3.0| 1.9897484|\n",
            "|    833|   247|   3.0| 1.9508841|\n",
            "|   1088|    15|   2.0| 2.3041434|\n",
            "|   1088|   358|   3.0| 3.2161005|\n",
            "|   1088|   547|   5.0| 3.1296427|\n",
            "|   1088|   564|   2.0| 2.9442132|\n",
            "|   1088|   387|   4.0| 3.4349847|\n",
            "|   1088|   514|   3.0| 2.6347096|\n",
            "|   1088|    97|   2.0| 1.2294201|\n",
            "|   1088|    95|   5.0| 3.5982609|\n",
            "|   1088|   370|   3.0| 3.8341415|\n",
            "|   1088|   344|   3.0| 3.0364914|\n",
            "|   1580|   137|   5.0| 3.5314248|\n",
            "|   1580|    53|   3.0|    3.7748|\n",
            "|   1580|   596|   3.0| 3.6478035|\n",
            "|   1580|   384|   4.0| 3.5806534|\n",
            "|   1580|   159|   3.5| 3.3416882|\n",
            "|   1580|   185|   4.0| 3.7207062|\n",
            "|   1580|   305|   3.0| 2.4768317|\n",
            "|   1580|   603|   5.0| 4.1032786|\n",
            "+-------+------+------+----------+\n",
            "only showing top 20 rows\n",
            "\n"
          ],
          "name": "stdout"
        }
      ]
    },
    {
      "cell_type": "code",
      "metadata": {
        "id": "oP6qfjASgY31"
      },
      "source": [
        "p = predictions.dropna(subset=('prediction'))"
      ],
      "execution_count": null,
      "outputs": []
    },
    {
      "cell_type": "code",
      "metadata": {
        "colab": {
          "base_uri": "https://localhost:8080/"
        },
        "id": "2BEPdREohCYb",
        "outputId": "6b49de29-8b28-4cb7-fef4-c6a600623729"
      },
      "source": [
        "p.show()"
      ],
      "execution_count": null,
      "outputs": [
        {
          "output_type": "stream",
          "text": [
            "+-------+------+------+----------+\n",
            "|movieId|userId|rating|prediction|\n",
            "+-------+------+------+----------+\n",
            "|    833|   296|   4.5| 1.8338069|\n",
            "|   1088|   128|   5.0| 4.3219113|\n",
            "|   1088|   363|   2.0|  4.529824|\n",
            "|   1088|   547|   5.0| 3.1482077|\n",
            "|   1088|   564|   2.0| 3.0628922|\n",
            "|   1088|   418|   5.0| 3.9763205|\n",
            "|   1088|   200|   1.0| 2.7869658|\n",
            "|   1088|   344|   3.0| 2.3649516|\n",
            "|   1088|   294|   3.5| 3.9629717|\n",
            "|   1088|   311|   5.0| 3.2683938|\n",
            "|   1088|   187|   4.0| 3.7908418|\n",
            "|   1580|   623|   3.5| 3.8105679|\n",
            "|   1580|   155|   5.0|  2.586903|\n",
            "|   1580|    34|   3.0|  3.865033|\n",
            "|   1580|   384|   4.0| 3.8878832|\n",
            "|   1580|   159|   3.5|  3.765738|\n",
            "|   1580|   103|   3.0| 3.4589183|\n",
            "|   1580|   388|   3.0| 3.5019011|\n",
            "|   1580|   417|   4.0|  3.367466|\n",
            "|   1580|    93|   3.5| 3.5183764|\n",
            "+-------+------+------+----------+\n",
            "only showing top 20 rows\n",
            "\n"
          ],
          "name": "stdout"
        }
      ]
    },
    {
      "cell_type": "code",
      "metadata": {
        "colab": {
          "base_uri": "https://localhost:8080/"
        },
        "id": "tQqR_k6QXlj2",
        "outputId": "85f9cf35-106f-40bb-983f-01e046e37550"
      },
      "source": [
        "rmse = evaluator.evaluate(predictions)\r\n",
        "print(\"Root-mean-square error = \" + str(rmse))"
      ],
      "execution_count": null,
      "outputs": [
        {
          "output_type": "stream",
          "text": [
            "Root-mean-square error = 0.9258067559908534\n"
          ],
          "name": "stdout"
        }
      ]
    },
    {
      "cell_type": "code",
      "metadata": {
        "id": "C_AMuCkbXnSL"
      },
      "source": [
        "single_user = test.filter(test['userId']==11).select(['movieId','userId'])"
      ],
      "execution_count": null,
      "outputs": []
    },
    {
      "cell_type": "code",
      "metadata": {
        "colab": {
          "base_uri": "https://localhost:8080/"
        },
        "id": "gorWMsHyXtSP",
        "outputId": "5f816a41-f0c2-46d7-a348-5976eaa116fd"
      },
      "source": [
        "reccomendations = model.transform(single_user)\r\n",
        "reccomendations.orderBy('prediction',ascending=False).show()"
      ],
      "execution_count": null,
      "outputs": [
        {
          "output_type": "stream",
          "text": [
            "+-------+------+----------+\n",
            "|movieId|userId|prediction|\n",
            "+-------+------+----------+\n",
            "|    296|    11| 4.4688263|\n",
            "|    923|    11| 3.7383432|\n",
            "+-------+------+----------+\n",
            "\n"
          ],
          "name": "stdout"
        }
      ]
    }
  ]
}